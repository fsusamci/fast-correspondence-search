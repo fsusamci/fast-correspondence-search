{
 "cells": [
  {
   "cell_type": "code",
   "execution_count": 3,
   "metadata": {},
   "outputs": [],
   "source": [
    "import numpy as np"
   ]
  },
  {
   "cell_type": "code",
   "execution_count": 4,
   "metadata": {},
   "outputs": [],
   "source": [
    "\n",
    "\n",
    "L1 = np.array(\n",
    "    [ [4,5] , [6,4], [2,7], [5,6] ] \n",
    ")"
   ]
  },
  {
   "cell_type": "code",
   "execution_count": 6,
   "metadata": {},
   "outputs": [],
   "source": [
    "# Defining box size\n",
    "# Step 1. Recall min,max(x,y,z) of data volume\n",
    "\n",
    "# Find maximums\n",
    "\n",
    "# for X axis :\n",
    "findXMax = np.amax(L1, axis=0) # amax returns ndarray(?) or scalar\n",
    "xMax = findXMax[1]\n",
    "\n",
    "# for Y axis :\n",
    "findYMax = np.amax(L1, axis=1) # amax returns ndarray(?) or scalar\n",
    "yMax = findYMax[1] # if there are 3 axes then xMax=findXMax[2]\n",
    "\n",
    "# for Z axis :\n",
    "# findZMax = np.amax(L1, axis=2) # amax returns ndarray(?) or scalar\n",
    "# zMax = findZMax[2] # if there are 3 axes then xMax=findXMax[2]\n",
    "\n",
    "# for Y axis \n",
    "\n",
    "# Find minimums \n",
    "\n",
    "# for X axis : \n",
    "findXMin = np.amin(L1,axis=0)\n",
    "xMin = findXMin[0]\n",
    "\n",
    "# for Y axis : \n",
    "findYMin = np.amin(L1,axis=0)\n",
    "yMin = findYMin[0]\n",
    "\n",
    "# for Z axis : "
   ]
  },
  {
   "cell_type": "code",
   "execution_count": 7,
   "metadata": {},
   "outputs": [],
   "source": [
    "# Step 2. Define number of boxes along x-y-z axes. (M*M*M)\n",
    "\n",
    "# data size along x and y axis\n",
    "L1DataSize = 4\n",
    "L1Dimensions = 2"
   ]
  },
  {
   "cell_type": "code",
   "execution_count": 8,
   "metadata": {},
   "outputs": [
    {
     "data": {
      "text/plain": [
       "array([[0., 0.],\n",
       "       [0., 0.],\n",
       "       [0., 0.],\n",
       "       [0., 0.]])"
      ]
     },
     "execution_count": 8,
     "metadata": {},
     "output_type": "execute_result"
    }
   ],
   "source": [
    "# Computing I\n",
    "# Step 1. Allocate Allocate an M x M x M size accumulator array\n",
    "# B = Buvw which is to contain the number of points in each box\n",
    "Buvw = np.zeros((L1DataSize,L1Dimensions))\n",
    "Buvw"
   ]
  },
  {
   "cell_type": "code",
   "execution_count": 9,
   "metadata": {},
   "outputs": [
    {
     "data": {
      "text/plain": [
       "array([[1. , 1.5],\n",
       "       [2. , 1. ],\n",
       "       [0. , 2.5],\n",
       "       [1.5, 2. ]])"
      ]
     },
     "execution_count": 9,
     "metadata": {},
     "output_type": "execute_result"
    }
   ],
   "source": [
    "# Step 2. Scan L1 and fill B. For any point Ai the box indices\n",
    "# are as follows:\n",
    "\n",
    "B = np.zeros((L1DataSize,L1Dimensions))\n",
    "\n",
    "Dx = 2\n",
    "Dy = 2\n",
    "# Dz = \n",
    "\n",
    "l1Length = len(L1)\n",
    "\n",
    "# Create u array\n",
    "u = np.zeros(l1Length)\n",
    "\n",
    "for i in range(0,l1Length):\n",
    "    xi = L1[i][0]\n",
    "    u[i] = (xi - xMin) / Dx # use truncation\n",
    "    B[i][0] = u[i]\n",
    "\n",
    "# Create v array\n",
    "v = np.zeros(l1Length)\n",
    "\n",
    "for i in range(0,l1Length):\n",
    "    yi = L1[i][1]\n",
    "    u[i] = (yi - yMin) / Dy # use truncation\n",
    "    B[i][1] = u[i]\n",
    "\n",
    "B    \n",
    "# Create w array"
   ]
  },
  {
   "cell_type": "code",
   "execution_count": 48,
   "metadata": {},
   "outputs": [],
   "source": [
    "# Step 3. Fill I using the following recursive formula:\n",
    "\n",
    "I = np.zeros((L1DataSize,L1Dimensions))\n",
    "I[0][0] = 0\n",
    "\n",
    "# For all (u,v,w) != (0,0,0) \n",
    "\n",
    "for i in range(0,len(u)):\n",
    "    for j in range(0,len(v)):"
   ]
  },
  {
   "cell_type": "code",
   "execution_count": null,
   "metadata": {},
   "outputs": [],
   "source": [
    "# Filling L2"
   ]
  },
  {
   "cell_type": "code",
   "execution_count": 1,
   "metadata": {},
   "outputs": [],
   "source": [
    "# Access procedure"
   ]
  }
 ],
 "metadata": {
  "kernelspec": {
   "display_name": "Python 3",
   "language": "python",
   "name": "python3"
  },
  "language_info": {
   "codemirror_mode": {
    "name": "ipython",
    "version": 3
   },
   "file_extension": ".py",
   "mimetype": "text/x-python",
   "name": "python",
   "nbconvert_exporter": "python",
   "pygments_lexer": "ipython3",
   "version": "3.6.4"
  }
 },
 "nbformat": 4,
 "nbformat_minor": 2
}
