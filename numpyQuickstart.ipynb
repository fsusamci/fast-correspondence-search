{
 "cells": [
  {
   "cell_type": "code",
   "execution_count": 4,
   "metadata": {},
   "outputs": [],
   "source": [
    "import numpy as np"
   ]
  },
  {
   "cell_type": "code",
   "execution_count": 37,
   "metadata": {},
   "outputs": [
    {
     "data": {
      "text/plain": [
       "array([[5, 4],\n",
       "       [3, 4],\n",
       "       [0, 0]])"
      ]
     },
     "execution_count": 37,
     "metadata": {},
     "output_type": "execute_result"
    }
   ],
   "source": [
    "# Matrix dot product\n",
    "A = np.array([[1,1],[0,1],[0,0]])\n",
    "B = np.array([[2,0],[3,4]])\n",
    "np.dot(A,B)"
   ]
  },
  {
   "cell_type": "code",
   "execution_count": 9,
   "metadata": {},
   "outputs": [
    {
     "name": "stdout",
     "output_type": "stream",
     "text": [
      "1\n",
      "1\n"
     ]
    }
   ],
   "source": [
    "for i in A[0]:\n",
    "    print (i)"
   ]
  },
  {
   "cell_type": "code",
   "execution_count": 16,
   "metadata": {},
   "outputs": [
    {
     "data": {
      "text/plain": [
       "3"
      ]
     },
     "execution_count": 16,
     "metadata": {},
     "output_type": "execute_result"
    }
   ],
   "source": [
    "len(A)"
   ]
  },
  {
   "cell_type": "code",
   "execution_count": 41,
   "metadata": {},
   "outputs": [
    {
     "name": "stdout",
     "output_type": "stream",
     "text": [
      "1\n",
      "0\n",
      "0\n"
     ]
    }
   ],
   "source": [
    "for i in range(0,len(A)):\n",
    "    print (A[i][0])"
   ]
  },
  {
   "cell_type": "code",
   "execution_count": 22,
   "metadata": {},
   "outputs": [
    {
     "data": {
      "text/plain": [
       "array([2, 0])"
      ]
     },
     "execution_count": 22,
     "metadata": {},
     "output_type": "execute_result"
    }
   ],
   "source": [
    "np.amin(B,axis=0)"
   ]
  },
  {
   "cell_type": "code",
   "execution_count": 32,
   "metadata": {},
   "outputs": [],
   "source": [
    "data = np.array([ \n",
    "[4,5,8],[6,4,9],[2,7,10],[5,6,1]\n",
    "])"
   ]
  },
  {
   "cell_type": "code",
   "execution_count": 27,
   "metadata": {},
   "outputs": [
    {
     "data": {
      "text/plain": [
       "2"
      ]
     },
     "execution_count": 27,
     "metadata": {},
     "output_type": "execute_result"
    }
   ],
   "source": [
    "xMin = np.amin(data,axis=0)\n",
    "xMin[0]"
   ]
  },
  {
   "cell_type": "code",
   "execution_count": 28,
   "metadata": {},
   "outputs": [
    {
     "data": {
      "text/plain": [
       "4"
      ]
     },
     "execution_count": 28,
     "metadata": {},
     "output_type": "execute_result"
    }
   ],
   "source": [
    "yMin = np.amin(data,axis=1)\n",
    "yMin[0]"
   ]
  },
  {
   "cell_type": "code",
   "execution_count": 35,
   "metadata": {},
   "outputs": [
    {
     "data": {
      "text/plain": [
       "10"
      ]
     },
     "execution_count": 35,
     "metadata": {},
     "output_type": "execute_result"
    }
   ],
   "source": [
    "xMax = np.amax(data, axis=0)\n",
    "xMax[2]"
   ]
  },
  {
   "cell_type": "code",
   "execution_count": 46,
   "metadata": {},
   "outputs": [
    {
     "data": {
      "text/plain": [
       "array([0., 0., 0., 0.])"
      ]
     },
     "execution_count": 46,
     "metadata": {},
     "output_type": "execute_result"
    }
   ],
   "source": [
    "u = np.zeros(4)\n",
    "u"
   ]
  },
  {
   "cell_type": "code",
   "execution_count": 48,
   "metadata": {},
   "outputs": [],
   "source": [
    "L1 = np.array(\n",
    "    [ [4,5] , [6,4], [2,7], [5,6] ] \n",
    ")\n",
    "\n",
    "B = np.zeros((4,2))\n",
    "\n",
    "l1Length = len(L1)\n",
    "\n",
    "# Create u array\n",
    "u = np.zeros(l1Length)\n",
    "\n",
    "for i in range(0,l1Length):\n",
    "    u[i] = L1[i][0]\n",
    "\n",
    "# Create v array\n",
    "v = np.zeros(l1Length)\n",
    "\n",
    "for i in range(0,l1Length):\n",
    "    v[i] = L1[i][1]"
   ]
  },
  {
   "cell_type": "code",
   "execution_count": 53,
   "metadata": {},
   "outputs": [
    {
     "data": {
      "text/plain": [
       "array([[4., 5.],\n",
       "       [6., 4.],\n",
       "       [2., 7.],\n",
       "       [5., 6.]])"
      ]
     },
     "execution_count": 53,
     "metadata": {},
     "output_type": "execute_result"
    }
   ],
   "source": [
    "for i in range(0,l1Length):\n",
    "    B[i][0] = u[i]\n",
    "    \n",
    "for i in range(0,l1Length):\n",
    "    B[i][1] = v[i]\n",
    "    \n",
    "B"
   ]
  },
  {
   "cell_type": "code",
   "execution_count": 61,
   "metadata": {},
   "outputs": [],
   "source": [
    "# Find minimums \n",
    "\n",
    "# for X axis : \n",
    "findXMin = np.amin(L1,axis=0)\n",
    "xMin = findXMin[0]\n",
    "\n",
    "# for Y axis : \n",
    "findYMin = np.amin(L1,axis=0)\n",
    "yMin = findYMin[0]"
   ]
  },
  {
   "cell_type": "code",
   "execution_count": 65,
   "metadata": {},
   "outputs": [
    {
     "data": {
      "text/plain": [
       "array([[1. , 0. ],\n",
       "       [2. , 0. ],\n",
       "       [0. , 0. ],\n",
       "       [1.5, 0. ]])"
      ]
     },
     "execution_count": 65,
     "metadata": {},
     "output_type": "execute_result"
    }
   ],
   "source": [
    "# Step 2. Scan L1 and fill B. For any point Ai the box indices\n",
    "# are as follows:\n",
    "\n",
    "L1 = np.array(\n",
    "    [ [4,5] , [6,4], [2,7], [5,6] ] \n",
    ")\n",
    "\n",
    "B = np.zeros((4,2))\n",
    "\n",
    "Dx = 2\n",
    "Dy = 2\n",
    "# Dz = \n",
    "\n",
    "l1Length = len(L1)\n",
    "\n",
    "# Create u array\n",
    "u = np.zeros(l1Length)\n",
    "\n",
    "for i in range(0,l1Length):\n",
    "    xi = L1[i][0]\n",
    "    u[i] = (xi - xMin) / Dx #use truncation\n",
    "    B[i][0] = u[i]\n",
    "    \n",
    "B"
   ]
  },
  {
   "cell_type": "code",
   "execution_count": 68,
   "metadata": {},
   "outputs": [
    {
     "data": {
      "text/plain": [
       "array([[1. , 1.5],\n",
       "       [2. , 1. ],\n",
       "       [0. , 2.5],\n",
       "       [1.5, 2. ]])"
      ]
     },
     "execution_count": 68,
     "metadata": {},
     "output_type": "execute_result"
    }
   ],
   "source": [
    "for i in range(0,l1Length):\n",
    "    yi = L1[i][1]\n",
    "    u[i] = (yi - yMin) / Dy #use truncation\n",
    "    B[i][1] = u[i]\n",
    "    \n",
    "B"
   ]
  },
  {
   "cell_type": "code",
   "execution_count": 82,
   "metadata": {},
   "outputs": [
    {
     "data": {
      "text/plain": [
       "array([7, 9, 7, 8])"
      ]
     },
     "execution_count": 82,
     "metadata": {},
     "output_type": "execute_result"
    }
   ],
   "source": [
    "L1 = np.array(\n",
    "    [ [4,5,7] , [6,4,9], [2,7,3], [5,6,8] ] \n",
    ")\n",
    "\n",
    "# for Z axis :\n",
    "findZMax = np.amax(L1, axis=1) # amax returns ndarray(?) or scalar\n",
    "zMax = findZMax[1] # if there are 3 axes then xMax=findXMax[2]\n",
    "\n",
    "# for Y axis :\n",
    "findYMax = np.amax(L1, axis=1) # amax returns ndarray(?) or scalar\n",
    "yMax = findYMax[1] # if there are 3 axes then xMax=findXMax[2]\n",
    "\n",
    "findYMax"
   ]
  },
  {
   "cell_type": "code",
   "execution_count": 85,
   "metadata": {},
   "outputs": [
    {
     "name": "stdout",
     "output_type": "stream",
     "text": [
      "0\n",
      "1\n",
      "2\n",
      "3\n"
     ]
    }
   ],
   "source": [
    "# Step 2. Scan L1 and fill B. For any point Ai the box indices\n",
    "# are as follows:\n",
    "\n",
    "B = np.zeros((4,2))\n",
    "\n",
    "Dx = 2\n",
    "Dy = 2\n",
    "# Dz = \n",
    "\n",
    "l1Length = len(L1)\n",
    "\n",
    "# Create u array\n",
    "u = np.zeros(l1Length)\n",
    "\n",
    "for i in range(0,l1Length):\n",
    "    xi = L1[i][0]\n",
    "    u[i] = (xi - xMin) / Dx # use truncation\n",
    "    B[i][0] = u[i]\n",
    "\n",
    "for i in range(0,len(u)):\n",
    "    print(i)\n",
    "    "
   ]
  }
 ],
 "metadata": {
  "kernelspec": {
   "display_name": "Python 3",
   "language": "python",
   "name": "python3"
  },
  "language_info": {
   "codemirror_mode": {
    "name": "ipython",
    "version": 3
   },
   "file_extension": ".py",
   "mimetype": "text/x-python",
   "name": "python",
   "nbconvert_exporter": "python",
   "pygments_lexer": "ipython3",
   "version": "3.6.4"
  }
 },
 "nbformat": 4,
 "nbformat_minor": 2
}
